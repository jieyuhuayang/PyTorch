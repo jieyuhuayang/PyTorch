{
 "cells": [
  {
   "cell_type": "markdown",
   "metadata": {},
   "source": [
    "前面我们已经介绍了```autograd```包，现在我们使用```torch.nn```包来构建神经网络，```nn```包依赖于```autograd```包来定义模型并对它们求导。    \n",
    "```nn.Module```是神经网络模块。包含神经网络各个层和一个```forward(input)```方法，该方法返回```output```。    \n",
    "```nn.Parameter```也是一个tensor，当它作为一个属性分配给一个Module时，它会被自动注册为一个参数。"
   ]
  },
  {
   "cell_type": "markdown",
   "metadata": {},
   "source": [
    "# 1. Torch 中的激励函数"
   ]
  },
  {
   "cell_type": "code",
   "execution_count": 114,
   "metadata": {},
   "outputs": [
    {
     "data": {
      "image/png": "[encoded data removed]",
      "text/plain": [
       "<Figure size 576x432 with 3 Axes>"
      ]
     },
     "metadata": {},
     "output_type": "display_data"
    }
   ],
   "source": [
    "import torch\n",
    "import matplotlib.pyplot as plt\n",
    "# 做一些假数据来观看图像\n",
    "x = torch.linspace(-5, 5, 200)  # x data (tensor), shape=(100, 1)\n",
    "x = Variable(x) \n",
    "\n",
    "x_np = x.numpy()   # 换成 numpy array, 出图时用  \n",
    "\n",
    "# 几种常用的 激励函数\n",
    "y_relu = torch.relu(x).detach().numpy()\n",
    "y_sigmoid = torch.sigmoid(x).detach().numpy()\n",
    "y_tanh = torch.tanh(x).detach().numpy()\n",
    "\n",
    "plt.figure(1, figsize=(8, 6))\n",
    "plt.subplot(221)\n",
    "plt.plot(x_np, y_relu, c='red', label='relu')\n",
    "plt.ylim((-1, 5))\n",
    "plt.legend(loc='best')\n",
    "\n",
    "plt.subplot(222)\n",
    "plt.plot(x_np, y_sigmoid, c='red', label='sigmoid')\n",
    "plt.ylim((-0.2, 1.2))\n",
    "plt.legend(loc='best')\n",
    "\n",
    "plt.subplot(223)\n",
    "plt.plot(x_np, y_tanh, c='red', label='tanh')\n",
    "plt.ylim((-1.2, 1.2))\n",
    "plt.legend(loc='best')\n",
    "\n",
    "plt.show()"
   ]
  },
  {
   "cell_type": "markdown",
   "metadata": {},
   "source": [
    "# 2. torch.nn中的网络结构组件\n",
    "## 2.1 二维卷积层\n",
    "- nn.Conv2d将接受一个4维的张量：```nSamples×nChannels×Height×Width```,输出一个4维张量：```nSamples×nChannels\\_out×Height\\_out×Width\\_out```\n",
    "- ```torch.nn.Conv2d(in_channels, out_channels, kernel_size, stride=1, padding=0, dilation=1, groups=1, bias=True)```  \n",
    "  \n",
    "其他网络结构详见nn包文档：[https://pytorch.org/docs/stable/nn.html#](https://pytorch.org/docs/stable/nn.html#)"
   ]
  },
  {
   "cell_type": "markdown",
   "metadata": {},
   "source": [
    "# 3. torch.nn中的损失函数 \n",
    "一个损失函数接受一对(output, target)作为输入，计算一个值来估计网络的输出和目标值相差多少。  \n",
    "详见nn包文档：[https://pytorch.org/docs/stable/nn.html#](https://pytorch.org/docs/stable/nn.html#)\n",
    "## 3.1 reduction参数\n",
    "- PyTorch 0.4版本后，使用reduction参数控制损失函数的输出行为。  \n",
    "    - reduction (string, optional)   \n",
    "        - ‘none’: 不进行数据降维，输出为向量  \n",
    "        - ‘mean’： 将向量中的数累加求和，然后除以元素数量，返回误差的平均值  \n",
    "        - ‘sum’： 返回向量的误差值的和  "
   ]
  },
  {
   "cell_type": "markdown",
   "metadata": {},
   "source": [
    "# 4. 定义一个网络  \n",
    "网络上的很多代码都是PyTorch0.4以前的版本，自从0.4后variable和tensor合并，tensor也具有requires_grad的属性了。  \n",
    "## 4.1 定义网络架构"
   ]
  },
  {
   "cell_type": "code",
   "execution_count": 97,
   "metadata": {},
   "outputs": [
    {
     "name": "stdout",
     "output_type": "stream",
     "text": [
      "Net(\n",
      "  (conv1): Conv2d(1, 6, kernel_size=(5, 5), stride=(1, 1))\n",
      "  (conv2): Conv2d(6, 16, kernel_size=(5, 5), stride=(1, 1))\n",
      "  (fc1): Linear(in_features=400, out_features=120, bias=True)\n",
      "  (fc2): Linear(in_features=120, out_features=84, bias=True)\n",
      "  (fc3): Linear(in_features=84, out_features=10, bias=True)\n",
      ")\n"
     ]
    }
   ],
   "source": [
    "import torch\n",
    "import torch.nn as nn\n",
    "import torch.nn.functional as F\n",
    "\n",
    "class Net(nn.Module):\n",
    "\n",
    "    def __init__(self):\n",
    "        super(Net, self).__init__()\n",
    "        # CLASS torch.nn.Conv2d(in_channels, out_channels, kernel_size, stride=1, padding=0, dilation=1, groups=1, bias=True)\n",
    "        # 1 input image channel, 6 output channels, 5x5 square convolution kernel\n",
    "        self.conv1 = nn.Conv2d(1, 6, 5)\n",
    "        self.conv2 = nn.Conv2d(6, 16, 5)\n",
    "        # an affine operation: y = Wx + b\n",
    "        self.fc1 = nn.Linear(16 * 5 * 5, 120)\n",
    "        self.fc2 = nn.Linear(120, 84)\n",
    "        self.fc3 = nn.Linear(84, 10)\n",
    "\n",
    "    def forward(self, x):\n",
    "        # Max pooling over a (2, 2) window\n",
    "        x = F.max_pool2d(F.relu(self.conv1(x)), (2, 2))\n",
    "        # If the size is a square you can only specify a single number\n",
    "        x = F.max_pool2d(F.relu(self.conv2(x)), 2)\n",
    "        # view函数将张量x变形成一维的向量形式，总特征数并不改变，为接下来的全连接作准备。\n",
    "        \n",
    "        x = x.view(-1, self.num_flat_features(x))\n",
    "        x = F.relu(self.fc1(x))\n",
    "        x = F.relu(self.fc2(x))\n",
    "        x = self.fc3(x)\n",
    "        return x\n",
    "    \n",
    "    # num_flat_features：计算张量x的总特征量（把每个数字都看出是一个特征，即特征总量）\n",
    "    def num_flat_features(self, x):\n",
    "        size = x.size()[1:]  # all dimensions except the batch dimension(批大小维度)\n",
    "        num_features = 1\n",
    "        for s in size:\n",
    "            num_features *= s\n",
    "        return num_features\n",
    "\n",
    "\n",
    "net = Net()\n",
    "print(net)"
   ]
  },
  {
   "cell_type": "markdown",
   "metadata": {},
   "source": [
    "## 4.2 检查一下参数、输入输出的形状\n",
    "可以看出来，我们设置了5层网络，得到了10个参数（（权重+偏置）* 5 层）："
   ]
  },
  {
   "cell_type": "code",
   "execution_count": 119,
   "metadata": {},
   "outputs": [
    {
     "name": "stdout",
     "output_type": "stream",
     "text": [
      "10\n",
      "<class 'torch.nn.parameter.Parameter'>\n",
      "第0个参数形状为torch.Size([6, 1, 5, 5])\n",
      "第1个参数形状为torch.Size([6])\n",
      "第2个参数形状为torch.Size([16, 6, 5, 5])\n",
      "第3个参数形状为torch.Size([16])\n",
      "第4个参数形状为torch.Size([120, 400])\n",
      "第5个参数形状为torch.Size([120])\n",
      "第6个参数形状为torch.Size([84, 120])\n",
      "第7个参数形状为torch.Size([84])\n",
      "第8个参数形状为torch.Size([10, 84])\n",
      "第9个参数形状为torch.Size([10])\n"
     ]
    }
   ],
   "source": [
    "params = list(net.parameters())\n",
    "print(len(params))\n",
    "print(type(params[0]))\n",
    "for i in range(10):\n",
    "    print(\"第{}个参数形状为{}\".format(i,params[i].size()))"
   ]
  },
  {
   "cell_type": "markdown",
   "metadata": {},
   "source": [
    "这个网络（LeNet）的期待输入是32x32，让我们随机生成一组数据作为输入："
   ]
  },
  {
   "cell_type": "code",
   "execution_count": 121,
   "metadata": {},
   "outputs": [
    {
     "name": "stdout",
     "output_type": "stream",
     "text": [
      "conv1输出的形状： torch.Size([1, 6, 28, 28])\n",
      "输出层形状 torch.Size([1, 10])\n",
      "输出层结果： tensor([[ 0.1090,  0.0137,  0.0531, -0.0406, -0.0739,  0.0899,  0.0254,  0.0115,\n",
      "          0.0654,  0.0346]], grad_fn=<AddmmBackward>)\n"
     ]
    }
   ],
   "source": [
    "input = torch.randn(1, 1, 32, 32)\n",
    "print('conv1输出的形状：',net.conv1(input).size()) # conv1输出的形状\n",
    "\n",
    "out = net(input)\n",
    "print('输出层形状',out.size())\n",
    "print('输出层结果：',out)"
   ]
  },
  {
   "cell_type": "markdown",
   "metadata": {},
   "source": [
    "## 4.3 定义损失函数和优化器"
   ]
  },
  {
   "cell_type": "code",
   "execution_count": 132,
   "metadata": {},
   "outputs": [
    {
     "name": "stdout",
     "output_type": "stream",
     "text": [
      "loss: tensor(0.6886, grad_fn=<MseLossBackward>)\n",
      "\n",
      "反向跟踪loss,使用它的.grad_fn属性,你会看到向下面这样的一个计算图:\n",
      "input -> conv2d -> relu -> maxpool2d -> conv2d -> relu -> maxpool2d -> view -> linear -> relu -> linear -> relu -> linear -> MSELoss -> loss\n",
      "<MseLossBackward object at 0x0000021708CC6710>\n",
      "<AddmmBackward object at 0x000002170910CE10>\n",
      "<AccumulateGrad object at 0x0000021708CC6710>\n"
     ]
    }
   ],
   "source": [
    "output = net(input)\n",
    "target = torch.randn(10)  # a dummy target, for example\n",
    "target = target.view(1, -1)  # make it the same shape as output\n",
    "criterion = nn.MSELoss() \n",
    "\n",
    "\n",
    "loss = criterion(output, target)\n",
    "print('loss:',loss)\n",
    "print('''\n",
    "反向跟踪loss,使用它的.grad_fn属性,你会看到向下面这样的一个计算图:\n",
    "input -> conv2d -> relu -> maxpool2d -> conv2d -> relu -> maxpool2d -> view -> linear -> relu -> linear -> relu -> linear -> MSELoss -> loss''')\n",
    "print(loss.grad_fn)  # MSELoss\n",
    "print(loss.grad_fn.next_functions[0][0])  # Linear\n",
    "print(loss.grad_fn.next_functions[0][0].next_functions[0][0]) # ReLU"
   ]
  },
  {
   "cell_type": "markdown",
   "metadata": {},
   "source": [
    "包torch.optim 实现了各种不同的参数更新规则，如SGD、Nesterov-SGD、Adam、RMSProp等"
   ]
  },
  {
   "cell_type": "code",
   "execution_count": 133,
   "metadata": {
    "collapsed": true
   },
   "outputs": [],
   "source": [
    "# 优化器\n",
    "optimizer = torch.optim.SGD(net.parameters(),lr=0.1)"
   ]
  },
  {
   "cell_type": "markdown",
   "metadata": {},
   "source": [
    "## 4.4 训练神经网络"
   ]
  },
  {
   "cell_type": "code",
   "execution_count": 135,
   "metadata": {},
   "outputs": [
    {
     "name": "stdout",
     "output_type": "stream",
     "text": [
      "tensor(0.6886, grad_fn=<MseLossBackward>)\n",
      "tensor(0.6061, grad_fn=<MseLossBackward>)\n",
      "tensor(0.5165, grad_fn=<MseLossBackward>)\n",
      "tensor(0.3901, grad_fn=<MseLossBackward>)\n",
      "tensor(0.2053, grad_fn=<MseLossBackward>)\n",
      "tensor(0.0425, grad_fn=<MseLossBackward>)\n",
      "tensor(0.0061, grad_fn=<MseLossBackward>)\n",
      "tensor(0.0012, grad_fn=<MseLossBackward>)\n",
      "tensor(0.0007, grad_fn=<MseLossBackward>)\n",
      "tensor(0.0010, grad_fn=<MseLossBackward>)\n"
     ]
    }
   ],
   "source": [
    "for epoch in range(10):\n",
    "    optimizer.zero_grad()   # zero the gradient buffers\n",
    "    output = net(input)\n",
    "    loss = criterion(output, target)\n",
    "    print(loss)\n",
    "    loss.backward()\n",
    "    optimizer.step()    # Does the update\n",
    "    "
   ]
  },
  {
   "cell_type": "markdown",
   "metadata": {},
   "source": [
    "分别用numpy和PyTorch实现一个简单的梯度下降"
   ]
  },
  {
   "cell_type": "code",
   "execution_count": 26,
   "metadata": {},
   "outputs": [
    {
     "name": "stdout",
     "output_type": "stream",
     "text": [
      "x: -0.2 y: 0.64\n",
      "x: -0.36000000000000004 y: 0.40959999999999996\n",
      "x: -0.488 y: 0.26214400000000004\n",
      "x: -0.5904 y: 0.16777215999999995\n",
      "x: -0.67232 y: 0.10737418239999996\n",
      "x: -0.7378560000000001 y: 0.06871947673599998\n",
      "x: -0.7902848 y: 0.043980465111040035\n",
      "x: -0.83222784 y: 0.028147497671065613\n",
      "x: -0.865782272 y: 0.018014398509481944\n",
      "x: -0.8926258176 y: 0.011529215046068408\n"
     ]
    }
   ],
   "source": [
    "#######################\n",
    "# 不使用PyTorch做一个简单的梯度下降\n",
    "#######################\n",
    "x = 0 \n",
    "\n",
    "# 学习率\n",
    "learning_rate= 0.1 \n",
    "\n",
    "# 迭代次数\n",
    "epochs = 10\n",
    "\n",
    "# lambda函数定义一个简单的函数，假装是在算loss :)\n",
    "y = lambda x: x**2 + 2*x +1 \n",
    "\n",
    "for epoch in range(epochs):\n",
    "    dx = 2*x +2 #梯度\n",
    "    x = x - learning_rate*dx #在梯度上进行更新\n",
    "    print('x:',x,'y:',y(x))"
   ]
  },
  {
   "cell_type": "code",
   "execution_count": 55,
   "metadata": {},
   "outputs": [
    {
     "name": "stdout",
     "output_type": "stream",
     "text": [
      "x= tensor([0.]) y= tensor([1.])\n",
      "x= tensor([-0.2000]) y= tensor([0.6400])\n",
      "x= tensor([-0.3600]) y= tensor([0.4096])\n",
      "x= tensor([-0.4880]) y= tensor([0.2621])\n",
      "x= tensor([-0.5904]) y= tensor([0.1678])\n",
      "x= tensor([-0.6723]) y= tensor([0.1074])\n",
      "x= tensor([-0.7379]) y= tensor([0.0687])\n",
      "x= tensor([-0.7903]) y= tensor([0.0440])\n",
      "x= tensor([-0.8322]) y= tensor([0.0281])\n",
      "x= tensor([-0.8658]) y= tensor([0.0180])\n",
      "x= tensor([-0.8926]) y= tensor([0.0115])\n",
      "x= tensor([-0.9141]) y= tensor([0.0074])\n",
      "x= tensor([-0.9313]) y= tensor([0.0047])\n",
      "x= tensor([-0.9450]) y= tensor([0.0030])\n",
      "x= tensor([-0.9560]) y= tensor([0.0019])\n"
     ]
    }
   ],
   "source": [
    "#################\n",
    "# PyTorch 实现一个简单的梯度下降\n",
    "#################\n",
    "import torch\n",
    "\n",
    "# 设定初始值\n",
    "x = torch.Tensor([0])\n",
    "x.requires_grad_(True)\n",
    "\n",
    "# 自己定义一个函数，假装是在算loss好了\n",
    "y= x**2 + 2*x + 1\n",
    "learning_rate=torch.Tensor([0.1])\n",
    "epoches = 15\n",
    "\n",
    "for epoch in range(epoches):\n",
    "    y= x**2 + 2*x + 1\n",
    "    # 反向传播求梯度\n",
    "    y.backward()\n",
    "    print('x=',x.data,'y=',y.data)\n",
    "\n",
    "    x.data= x.data - learning_rate*x.grad.data\n",
    "    # 在 PyTorch 中梯度如果不清零会积累((因为PyTorch是基于动态图的, 每迭代一次就会留下计算缓存, 到一下次循环时需要手动清楚缓存))\n",
    "    x.grad.data.zero_()\n",
    "    \n"
   ]
  },
  {
   "cell_type": "markdown",
   "metadata": {},
   "source": [
    "**利用PyTorch实现一个简单的线性回归**"
   ]
  },
  {
   "cell_type": "code",
   "execution_count": 95,
   "metadata": {
    "scrolled": true
   },
   "outputs": [
    {
     "name": "stdout",
     "output_type": "stream",
     "text": [
      "0 epoch's loss: 40.381011962890625\n",
      "1 epoch's loss: 0.6335387229919434\n",
      "2 epoch's loss: 0.15156620740890503\n",
      "3 epoch's loss: 0.1389687955379486\n",
      "4 epoch's loss: 0.13230319321155548\n",
      "5 epoch's loss: 0.1260179728269577\n",
      "6 epoch's loss: 0.12003206461668015\n",
      "7 epoch's loss: 0.11433039605617523\n",
      "8 epoch's loss: 0.10889953374862671\n",
      "9 epoch's loss: 0.10372686386108398\n",
      "10 epoch's loss: 0.09879972040653229\n",
      "11 epoch's loss: 0.09410669654607773\n",
      "12 epoch's loss: 0.08963649719953537\n",
      "13 epoch's loss: 0.08537869900465012\n",
      "14 epoch's loss: 0.08132310211658478\n",
      "15 epoch's loss: 0.0774601548910141\n",
      "16 epoch's loss: 0.07378076016902924\n",
      "17 epoch's loss: 0.07027611881494522\n",
      "18 epoch's loss: 0.06693806499242783\n",
      "19 epoch's loss: 0.06375843286514282\n",
      "20 epoch's loss: 0.06072979047894478\n",
      "21 epoch's loss: 0.05784515291452408\n",
      "22 epoch's loss: 0.05509743094444275\n",
      "23 epoch's loss: 0.05248021334409714\n",
      "24 epoch's loss: 0.04998737946152687\n",
      "25 epoch's loss: 0.04761295020580292\n",
      "26 epoch's loss: 0.04535127803683281\n",
      "27 epoch's loss: 0.04319709539413452\n",
      "28 epoch's loss: 0.041145194321870804\n",
      "29 epoch's loss: 0.039190784096717834\n",
      "30 epoch's loss: 0.037329185754060745\n",
      "31 epoch's loss: 0.03555605560541153\n",
      "32 epoch's loss: 0.03386708348989487\n",
      "33 epoch's loss: 0.03225836530327797\n",
      "34 epoch's loss: 0.03072609379887581\n",
      "35 epoch's loss: 0.0292666032910347\n",
      "36 epoch's loss: 0.02787637896835804\n",
      "37 epoch's loss: 0.02655218541622162\n",
      "38 epoch's loss: 0.025290999561548233\n",
      "39 epoch's loss: 0.024089643731713295\n",
      "the result of y when x is 4: tensor([7.6962], grad_fn=<AddBackward0>)\n",
      "model.parameter: [Parameter containing:\n",
      "tensor([[1.8241]], requires_grad=True), Parameter containing:\n",
      "tensor([0.3999], requires_grad=True)]\n",
      "<class 'list'>\n",
      "Parameter containing:\n",
      "tensor([0.3999], requires_grad=True)\n"
     ]
    }
   ],
   "source": [
    "import torch \n",
    "#print(torch.__version__)\n",
    "\n",
    "# train data \n",
    "x_data= torch.arange(1.0,4.0,1.0)\n",
    "x_data=x_data.view(-1,1)\n",
    "y_data= torch.arange(2.0,7.0,2.0)\n",
    "y_data= y_data.view(-1,1)\n",
    "\n",
    "# 超参数设置\n",
    "learning_rate=0.1\n",
    "num_epoches=40\n",
    "\n",
    "# 线性回归模型\n",
    "class LinearRegression(torch.nn.Module):\n",
    "    def __init__(self):\n",
    "        super(LinearRegression,self).__init__()\n",
    "        self.linear = torch.nn.Linear(1,1)# 1 in and 1 out\n",
    "        \n",
    "    def forward(self,x):\n",
    "        y_pred = self.linear(x)\n",
    "        return y_pred\n",
    "\n",
    "model = LinearRegression()\n",
    "\n",
    "# 定义loss function损失函数和optimizer优化器\n",
    "# PyTorch0.4以后，使用reduction参数控制损失函数的输出行为\n",
    "criterion = torch.nn.MSELoss(reduction='mean')\n",
    "# nn.Parameter - 张量的一种，当它作为一个属性分配给一个Module时，它会被自动注册为一个参数。\n",
    "optimizer = torch.optim.SGD(model.parameters(),lr=learning_rate)\n",
    "\n",
    "# 训练模型\n",
    "for epoch in range(num_epoches):\n",
    "    # forward \n",
    "    y_pred= model(x_data)\n",
    "    \n",
    "    #computing loss \n",
    "    loss = criterion(y_pred,y_data)\n",
    "    \n",
    "    print(epoch,'epoch\\'s loss:',loss.item())\n",
    "    \n",
    "    # backward: zero gradients + backward + step\n",
    "    optimizer.zero_grad()\n",
    "    loss.backward()  \n",
    "    optimizer.step() # 执行一步-梯度下降（1-step gradient descent）\n",
    "    \n",
    "# testing\n",
    "x_test=torch.Tensor([4.0])\n",
    "print(\"the result of y when x is 4:\",model(x_test))\n",
    "print('model.parameter:',list(model.parameters()))\n",
    "#print(type(list(model.parameters())))\n",
    "#print(list(model.parameters())[1])"
   ]
  }
 ],
 "metadata": {
  "kernelspec": {
   "display_name": "Python 3",
   "language": "python",
   "name": "python3"
  }
 },
 "nbformat": 4,
 "nbformat_minor": 2
}
