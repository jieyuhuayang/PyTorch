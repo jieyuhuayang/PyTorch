{
 "cells": [
  {
   "cell_type": "code",
   "execution_count": 38,
   "metadata": {},
   "outputs": [],
   "source": [
    "from __future__ import print_function\n",
    "import torch\n",
    "import numpy as np"
   ]
  },
  {
   "cell_type": "markdown",
   "metadata": {},
   "source": [
    "# 1. 张量（Tensor)\n",
    "tensor于numpy的ndarrays，不同之处在于tensor可以使用GPU来加快计算。"
   ]
  },
  {
   "cell_type": "markdown",
   "metadata": {},
   "source": [
    "## 1.1 创建一个未初始化的5*3的矩阵："
   ]
  },
  {
   "cell_type": "code",
   "execution_count": 46,
   "metadata": {},
   "outputs": [
    {
     "name": "stdout",
     "output_type": "stream",
     "text": [
      "tensor([[ 0.0000e+00,  0.0000e+00,  1.2163e-42],\n",
      "        [ 0.0000e+00,  7.0065e-45,  0.0000e+00],\n",
      "        [-2.6090e+09,  5.0587e-43,  0.0000e+00],\n",
      "        [ 0.0000e+00,  7.0065e-45,  0.0000e+00],\n",
      "        [-3.0255e+09,  5.0587e-43,  0.0000e+00]])\n",
      "x.dtype= torch.float32\n"
     ]
    }
   ],
   "source": [
    "x = torch.Tensor(5, 3)\n",
    "print(x)\n",
    "print('x.dtype=',x.dtype)"
   ]
  },
  {
   "cell_type": "markdown",
   "metadata": {},
   "source": [
    "## 1.2 获取tensor的属性（形状大小、维度个数、数据类型、元素个数）"
   ]
  },
  {
   "cell_type": "code",
   "execution_count": 50,
   "metadata": {},
   "outputs": [
    {
     "name": "stdout",
     "output_type": "stream",
     "text": [
      "法①：x.size()= torch.Size([5, 3])\n",
      "torch.Size()返回的实际上是一个元组，所以它支持元组的所有操作。\n",
      "法②：x.shape= torch.Size([5, 3])\n",
      "\n",
      "x.dim()= 2\n",
      "\n",
      "x.dtype= torch.float32\n",
      "\n",
      "x.numel()= 15\n"
     ]
    }
   ],
   "source": [
    "# 获取形状大小的两种方法：\n",
    "print('法①：x.size()=',x.size())\n",
    "print('torch.Size()返回的实际上是一个元组，所以它支持元组的所有操作。')\n",
    "print('法②：x.shape=',x.shape)\n",
    "print()\n",
    "\n",
    "# 获取维度个数\n",
    "print('x.dim()=',x.dim())\n",
    "print()\n",
    "\n",
    "# 获取数据类型\n",
    "print('x.dtype=',x.dtype)\n",
    "print()\n",
    "\n",
    "# 获取元素个数\n",
    "print('x.numel()=',x.numel())"
   ]
  },
  {
   "cell_type": "markdown",
   "metadata": {},
   "source": [
    "## 1.3 构建一个初始化矩阵\n",
    "- 0初始化，使用long的类型  \n",
    "- 1初始化\n",
    "- 随机[0, 1)初始化\n",
    "- 等差数列初始化 \n",
    "- 标准正态分布初始化\n",
    "- eye初始化"
   ]
  },
  {
   "cell_type": "code",
   "execution_count": 58,
   "metadata": {},
   "outputs": [
    {
     "name": "stdout",
     "output_type": "stream",
     "text": [
      "tensor([[0, 0, 0],\n",
      "        [0, 0, 0],\n",
      "        [0, 0, 0],\n",
      "        [0, 0, 0],\n",
      "        [0, 0, 0]])\n"
     ]
    }
   ],
   "source": [
    "x = torch.zeros(5, 3, dtype=torch.long)\n",
    "# 1初始化\n",
    "# x = torch.ones(5, 3, dtype=torch.long)\n",
    "\n",
    "# [0,1)初始化\n",
    "# x = torch.rand(5,3)\n",
    "\n",
    "# 等差数列初始化 \n",
    "# x = torch.arange(10,20,2)\n",
    "\n",
    "# 标准正态分布初始化\n",
    "# x =torch.randn(5,3)\n",
    "\n",
    "# eye初始化：para1决定张量的形状，比如3，就是三行三列，para2决定张量输出的列数，比如2，输出列数则为2。\n",
    "# x=torch.eye(5,3)\n",
    "print(x)"
   ]
  },
  {
   "cell_type": "markdown",
   "metadata": {},
   "source": [
    "## 1.4 从数据中直接构建一个tensor："
   ]
  },
  {
   "cell_type": "code",
   "execution_count": 10,
   "metadata": {},
   "outputs": [
    {
     "name": "stdout",
     "output_type": "stream",
     "text": [
      "tensor([5.5000, 3.0000])\n"
     ]
    }
   ],
   "source": [
    "x = torch.tensor([5.5, 3])\n",
    "print(x)"
   ]
  },
  {
   "cell_type": "markdown",
   "metadata": {},
   "source": [
    "## 1.5 根据已有的tensor建立新的tensor:\n",
    "除非用户提供新值,这些方法将重用输入张量(tensor)的属性，例如dtype"
   ]
  },
  {
   "cell_type": "code",
   "execution_count": 11,
   "metadata": {},
   "outputs": [
    {
     "name": "stdout",
     "output_type": "stream",
     "text": [
      "tensor([[0., 0., 0.],\n",
      "        [0., 0., 0.],\n",
      "        [0., 0., 0.],\n",
      "        [0., 0., 0.],\n",
      "        [0., 0., 0.]], dtype=torch.float64)\n",
      "tensor([[1., 1., 1.],\n",
      "        [1., 1., 1.],\n",
      "        [1., 1., 1.],\n",
      "        [1., 1., 1.],\n",
      "        [1., 1., 1.]], dtype=torch.float64)\n",
      "tensor([[ 0.7542, -0.1806, -0.7456],\n",
      "        [-0.3787,  1.2365,  1.0395],\n",
      "        [ 0.8733, -2.2402, -0.8755],\n",
      "        [ 0.9496,  1.5125,  0.0083],\n",
      "        [-0.5588, -0.5435,  0.0065]])\n"
     ]
    }
   ],
   "source": [
    "x = x.new_zeros(5, 3, dtype=torch.double)     # 打印：tensor([[0,0,0],[0,0,0],...])\n",
    "print(x)\n",
    "x = x.new_ones(5, 3, dtype=torch.double)      # new_* methods take in sizes\n",
    "print(x)\n",
    "\n",
    "x = torch.randn_like(x, dtype=torch.float)    # 覆盖类型! result 的size相同，数据变为随机值。\n",
    "print(x)                                   "
   ]
  },
  {
   "cell_type": "markdown",
   "metadata": {},
   "source": [
    "# 2. tensor上的运算"
   ]
  },
  {
   "cell_type": "markdown",
   "metadata": {},
   "source": [
    "一种运算有多种语法。在下面的示例中，我们将研究加法运算。\n",
    "   ## 2.1 加法的3种形式"
   ]
  },
  {
   "cell_type": "code",
   "execution_count": 23,
   "metadata": {},
   "outputs": [
    {
     "name": "stdout",
     "output_type": "stream",
     "text": [
      "tensor([[ 1.6529,  0.4947,  0.2033],\n",
      "        [ 0.5041,  1.5942,  1.9702],\n",
      "        [ 1.5319, -1.7636,  0.0310],\n",
      "        [ 1.6111,  1.5339,  0.7098],\n",
      "        [ 0.4113, -0.5045,  0.7432]])\n",
      "tensor([[ 1.6529,  0.4947,  0.2033],\n",
      "        [ 0.5041,  1.5942,  1.9702],\n",
      "        [ 1.5319, -1.7636,  0.0310],\n",
      "        [ 1.6111,  1.5339,  0.7098],\n",
      "        [ 0.4113, -0.5045,  0.7432]])\n",
      "tensor([[ 1.6529,  0.4947,  0.2033],\n",
      "        [ 0.5041,  1.5942,  1.9702],\n",
      "        [ 1.5319, -1.7636,  0.0310],\n",
      "        [ 1.6111,  1.5339,  0.7098],\n",
      "        [ 0.4113, -0.5045,  0.7432]])\n"
     ]
    }
   ],
   "source": [
    "# 加法的2种形式\n",
    "# 法①\n",
    "y = torch.rand(5, 3)\n",
    "c=x + y\n",
    "print(c)\n",
    "\n",
    "# 法②\n",
    "print(torch.add(x, y))\n",
    "\n",
    "# 法③\n",
    "result = torch.empty(5, 2)\n",
    "#print(result)\n",
    "torch.add(x,y,out=result)\n",
    "print(result)"
   ]
  },
  {
   "cell_type": "markdown",
   "metadata": {},
   "source": [
    "## 2.2 原地操作（in-place）\n",
    ">注意：\n",
    ">任何一个改变张量的操作后面都固定一个\\_。例如x.copy\\_(y)、x.t\\_()将更改x"
   ]
  },
  {
   "cell_type": "code",
   "execution_count": 24,
   "metadata": {},
   "outputs": [
    {
     "name": "stdout",
     "output_type": "stream",
     "text": [
      "tensor([[ 1.6529,  0.4947,  0.2033],\n",
      "        [ 0.5041,  1.5942,  1.9702],\n",
      "        [ 1.5319, -1.7636,  0.0310],\n",
      "        [ 1.6111,  1.5339,  0.7098],\n",
      "        [ 0.4113, -0.5045,  0.7432]])\n"
     ]
    }
   ],
   "source": [
    "# 把x加到y上\n",
    "y.add_(x)\n",
    "print(y)"
   ]
  },
  {
   "cell_type": "markdown",
   "metadata": {},
   "source": [
    "## 2.3 可以使用像标准的NumPy一样的各种索引操作"
   ]
  },
  {
   "cell_type": "code",
   "execution_count": 25,
   "metadata": {},
   "outputs": [
    {
     "name": "stdout",
     "output_type": "stream",
     "text": [
      "tensor([[ 0.7542, -0.1806, -0.7456],\n",
      "        [-0.3787,  1.2365,  1.0395],\n",
      "        [ 0.8733, -2.2402, -0.8755],\n",
      "        [ 0.9496,  1.5125,  0.0083],\n",
      "        [-0.5588, -0.5435,  0.0065]])\n",
      "tensor([-0.1806,  1.2365, -2.2402,  1.5125, -0.5435])\n"
     ]
    }
   ],
   "source": [
    "print(x)\n",
    "print(x[:, 1])"
   ]
  },
  {
   "cell_type": "markdown",
   "metadata": {},
   "source": [
    "## 2.4 改变形状\n",
    "如果想改变形状，可以使用torch.view"
   ]
  },
  {
   "cell_type": "code",
   "execution_count": 28,
   "metadata": {},
   "outputs": [
    {
     "name": "stdout",
     "output_type": "stream",
     "text": [
      "torch.Size([4, 4]) torch.Size([16]) torch.Size([2, 8])\n",
      "tensor([[ 1.1834, -0.4473, -1.4750, -1.4320],\n",
      "        [ 0.1730,  0.0911, -1.2494,  1.0530],\n",
      "        [ 0.6912,  1.1631, -1.0222,  1.0408],\n",
      "        [ 0.1931, -1.0624, -1.0157,  0.4932]])\n",
      "tensor([ 1.1834, -0.4473, -1.4750, -1.4320,  0.1730,  0.0911, -1.2494,  1.0530,\n",
      "         0.6912,  1.1631, -1.0222,  1.0408,  0.1931, -1.0624, -1.0157,  0.4932])\n"
     ]
    }
   ],
   "source": [
    "x = torch.randn(4, 4)\n",
    "y = x.view(16)\n",
    "z = x.view(-1, 8)  # -1的意思是没有指定维度\n",
    "print(x.size(), y.size(), z.size())\n",
    "print(x)\n",
    "print(y)"
   ]
  },
  {
   "cell_type": "markdown",
   "metadata": {},
   "source": [
    "## 2.5 如果是仅包含一个元素的tensor，可以使用.item()来得到对应的python数值"
   ]
  },
  {
   "cell_type": "code",
   "execution_count": 29,
   "metadata": {},
   "outputs": [
    {
     "name": "stdout",
     "output_type": "stream",
     "text": [
      "tensor([-2.8661])\n",
      "-2.866062879562378\n"
     ]
    }
   ],
   "source": [
    "x = torch.randn(1)\n",
    "print(x)\n",
    "print(x.item())"
   ]
  },
  {
   "cell_type": "markdown",
   "metadata": {},
   "source": [
    "## 2.6 稍后阅读\n",
    "[这里](https://pytorch.org/docs/stable/torch.html)描述了一百多种张量操作，包括转置，索引，数学运算，线性代数，随机数等。"
   ]
  },
  {
   "cell_type": "markdown",
   "metadata": {},
   "source": [
    "# 3. NumPy桥\n",
    "把一个torch张量转换为numpy数组或者反过来都是很简单的。  \n",
    "Torch张量和NumPy数组将共享它们的底层内存位置，更改一个将更改另一个。\n"
   ]
  },
  {
   "cell_type": "markdown",
   "metadata": {},
   "source": [
    "## 3.1 把Torch张量转换为numpy数组\n",
    "二者共享内存"
   ]
  },
  {
   "cell_type": "code",
   "execution_count": 36,
   "metadata": {},
   "outputs": [
    {
     "name": "stdout",
     "output_type": "stream",
     "text": [
      "tensor([1., 1., 1., 1., 1.]) torch.float32\n",
      "<class 'torch.Tensor'>\n",
      "\n",
      "[1. 1. 1. 1. 1.] float32\n",
      "<class 'numpy.ndarray'>\n"
     ]
    }
   ],
   "source": [
    "a = torch.ones(5)\n",
    "print(a,a.dtype)\n",
    "print(type(a))\n",
    "print()\n",
    "\n",
    "# 把Torch张量a转换为numpy数组b\n",
    "b = a.numpy()\n",
    "print(b,b.dtype)\n",
    "print(type(b))"
   ]
  },
  {
   "cell_type": "code",
   "execution_count": 37,
   "metadata": {},
   "outputs": [
    {
     "name": "stdout",
     "output_type": "stream",
     "text": [
      "tensor([2., 2., 2., 2., 2.])\n",
      "[2. 2. 2. 2. 2.]\n"
     ]
    }
   ],
   "source": [
    "a.add_(1)\n",
    "print(a)\n",
    "print(b)"
   ]
  },
  {
   "cell_type": "markdown",
   "metadata": {},
   "source": [
    "## 3.2 把numpy数组转换为torch张量\n",
    "二者共享内存"
   ]
  },
  {
   "cell_type": "code",
   "execution_count": 39,
   "metadata": {},
   "outputs": [
    {
     "name": "stdout",
     "output_type": "stream",
     "text": [
      "[1. 1. 1. 1. 1.]\n",
      "[2. 2. 2. 2. 2.]\n",
      "tensor([2., 2., 2., 2., 2.], dtype=torch.float64)\n"
     ]
    }
   ],
   "source": [
    "a = np.ones(5)\n",
    "print(a)\n",
    "b = torch.from_numpy(a)\n",
    "np.add(a, 1, out=a)\n",
    "print(a)\n",
    "print(b)"
   ]
  },
  {
   "cell_type": "markdown",
   "metadata": {},
   "source": [
    "## 3.3 CUDA张量\n",
    "可以使用.to方法将张量移动到任何设备上。"
   ]
  },
  {
   "cell_type": "code",
   "execution_count": 44,
   "metadata": {
    "collapsed": true
   },
   "outputs": [],
   "source": [
    "# let us run this cell only if CUDA is available\n",
    "# We will use ``torch.device`` objects to move tensors in and out of GPU\n",
    "if torch.cuda.is_available():\n",
    "    device = torch.device(\"cuda\")          # a CUDA device object\n",
    "    y = torch.ones_like(x, device=device)  # directly create a tensor on GPU\n",
    "    x = x.to(device)                       # or just use strings ``.to(\"cuda\")``\n",
    "    z = x + y\n",
    "    print(z)\n",
    "    print(z.to(\"cpu\", torch.double))       # ``.to`` can also change dtype together!"
   ]
  }
 ],
 "metadata": {
  "kernelspec": {
   "display_name": "Python 3",
   "language": "python",
   "name": "python3"
  },
  "language_info": {
   "codemirror_mode": {
    "name": "ipython",
    "version": 3
   },
   "file_extension": ".py",
   "mimetype": "text/x-python",
   "name": "python",
   "nbconvert_exporter": "python",
   "pygments_lexer": "ipython3",
   "version": "3.6.8"
  }
 },
 "nbformat": 4,
 "nbformat_minor": 2
}
