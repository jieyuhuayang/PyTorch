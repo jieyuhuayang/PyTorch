{
 "cells": [
  {
   "cell_type": "markdown",
   "metadata": {},
   "source": [
    "# 分别用numpy和PyTorch1.0实现一个简单的梯度下降"
   ]
  },
  {
   "cell_type": "code",
   "execution_count": 1,
   "metadata": {},
   "outputs": [
    {
     "name": "stdout",
     "output_type": "stream",
     "text": [
      "x: -0.2 y: 0.64\n",
      "x: -0.36000000000000004 y: 0.40959999999999996\n",
      "x: -0.488 y: 0.26214400000000004\n",
      "x: -0.5904 y: 0.16777215999999995\n",
      "x: -0.67232 y: 0.10737418239999996\n",
      "x: -0.7378560000000001 y: 0.06871947673599998\n",
      "x: -0.7902848 y: 0.043980465111040035\n",
      "x: -0.83222784 y: 0.028147497671065613\n",
      "x: -0.865782272 y: 0.018014398509481944\n",
      "x: -0.8926258176 y: 0.011529215046068408\n"
     ]
    }
   ],
   "source": [
    "#######################\n",
    "# 不使用PyTorch做一个简单的梯度下降\n",
    "#######################\n",
    "import torch\n",
    "\n",
    "x = 0 \n",
    "\n",
    "# 学习率\n",
    "learning_rate= 0.1 \n",
    "\n",
    "# 迭代次数\n",
    "epochs = 10\n",
    "\n",
    "# lambda函数定义一个简单的函数，假装是在算loss :)\n",
    "y = lambda x: x**2 + 2*x +1 \n",
    "\n",
    "for epoch in range(epochs):\n",
    "    dx = 2*x +2 #梯度\n",
    "    x = x - learning_rate*dx #在梯度上进行更新\n",
    "    print('x:',x,'y:',y(x))"
   ]
  },
  {
   "cell_type": "code",
   "execution_count": 2,
   "metadata": {},
   "outputs": [
    {
     "name": "stdout",
     "output_type": "stream",
     "text": [
      "x= tensor([0.]) y= tensor([1.])\n",
      "x= tensor([-0.2000]) y= tensor([0.6400])\n",
      "x= tensor([-0.3600]) y= tensor([0.4096])\n",
      "x= tensor([-0.4880]) y= tensor([0.2621])\n",
      "x= tensor([-0.5904]) y= tensor([0.1678])\n",
      "x= tensor([-0.6723]) y= tensor([0.1074])\n",
      "x= tensor([-0.7379]) y= tensor([0.0687])\n",
      "x= tensor([-0.7903]) y= tensor([0.0440])\n",
      "x= tensor([-0.8322]) y= tensor([0.0281])\n",
      "x= tensor([-0.8658]) y= tensor([0.0180])\n",
      "x= tensor([-0.8926]) y= tensor([0.0115])\n",
      "x= tensor([-0.9141]) y= tensor([0.0074])\n",
      "x= tensor([-0.9313]) y= tensor([0.0047])\n",
      "x= tensor([-0.9450]) y= tensor([0.0030])\n",
      "x= tensor([-0.9560]) y= tensor([0.0019])\n"
     ]
    }
   ],
   "source": [
    "#################\n",
    "# PyTorch 实现一个简单的梯度下降\n",
    "#################\n",
    "import torch\n",
    "\n",
    "# 设定初始值\n",
    "x = torch.Tensor([0])\n",
    "x.requires_grad_(True)\n",
    "\n",
    "# 自己定义一个函数，假装是在算loss好了\n",
    "y= x**2 + 2*x + 1\n",
    "learning_rate=torch.Tensor([0.1])\n",
    "epoches = 15\n",
    "\n",
    "for epoch in range(epoches):\n",
    "    y= x**2 + 2*x + 1\n",
    "    # 反向传播求梯度\n",
    "    y.backward()\n",
    "    print('x=',x.data,'y=',y.data)\n",
    "\n",
    "    x.data= x.data - learning_rate*x.grad.data\n",
    "    # 在 PyTorch 中梯度如果不清零会积累((因为PyTorch是基于动态图的, 每迭代一次就会留下计算缓存, 到一下次循环时需要手动清楚缓存))\n",
    "    x.grad.data.zero_()\n",
    "    \n"
   ]
  },
  {
   "cell_type": "markdown",
   "metadata": {},
   "source": [
    "# **利用PyTorch实现一个简单的线性回归**"
   ]
  },
  {
   "cell_type": "code",
   "execution_count": 2,
   "metadata": {
    "scrolled": true
   },
   "outputs": [
    {
     "name": "stdout",
     "output_type": "stream",
     "text": [
      "0 epoch's loss: 31.432294845581055\n",
      "1 epoch's loss: 0.5642789006233215\n",
      "2 epoch's loss: 0.1865861564874649\n",
      "3 epoch's loss: 0.1735316962003708\n",
      "4 epoch's loss: 0.1652386337518692\n",
      "5 epoch's loss: 0.15738900005817413\n",
      "6 epoch's loss: 0.14991293847560883\n",
      "7 epoch's loss: 0.14279185235500336\n",
      "8 epoch's loss: 0.13600918650627136\n",
      "9 epoch's loss: 0.12954866886138916\n",
      "10 epoch's loss: 0.12339501827955246\n",
      "11 epoch's loss: 0.11753371357917786\n",
      "12 epoch's loss: 0.11195069551467896\n",
      "13 epoch's loss: 0.10663309693336487\n",
      "14 epoch's loss: 0.10156787931919098\n",
      "15 epoch's loss: 0.09674332290887833\n",
      "16 epoch's loss: 0.09214794635772705\n",
      "17 epoch's loss: 0.08777078241109848\n",
      "18 epoch's loss: 0.08360163867473602\n",
      "19 epoch's loss: 0.07963056862354279\n",
      "20 epoch's loss: 0.07584801316261292\n",
      "21 epoch's loss: 0.07224513590335846\n",
      "22 epoch's loss: 0.06881348043680191\n",
      "23 epoch's loss: 0.06554479151964188\n",
      "24 epoch's loss: 0.062431275844573975\n",
      "25 epoch's loss: 0.05946587398648262\n",
      "26 epoch's loss: 0.0566411130130291\n",
      "27 epoch's loss: 0.053950563073158264\n",
      "28 epoch's loss: 0.0513879731297493\n",
      "29 epoch's loss: 0.048946939408779144\n",
      "30 epoch's loss: 0.04662192612886429\n",
      "31 epoch's loss: 0.04440741240978241\n",
      "32 epoch's loss: 0.04229801148176193\n",
      "33 epoch's loss: 0.04028883948922157\n",
      "34 epoch's loss: 0.03837507218122482\n",
      "35 epoch's loss: 0.036552220582962036\n",
      "36 epoch's loss: 0.03481597453355789\n",
      "37 epoch's loss: 0.03316216170787811\n",
      "38 epoch's loss: 0.03158695623278618\n",
      "39 epoch's loss: 0.030086500570178032\n",
      "the result of y when x is 4: tensor([7.6605], grad_fn=<AddBackward0>)\n",
      "model.parameter: [Parameter containing:\n",
      "tensor([[1.8034]], requires_grad=True), Parameter containing:\n",
      "tensor([0.4469], requires_grad=True)]\n"
     ]
    }
   ],
   "source": [
    "import torch \n",
    "#print(torch.__version__)\n",
    "\n",
    "# train data \n",
    "x_data= torch.arange(1.0,4.0,1.0)\n",
    "x_data=x_data.view(-1,1)\n",
    "y_data= torch.arange(2.0,7.0,2.0)\n",
    "y_data= y_data.view(-1,1)\n",
    "\n",
    "# 超参数设置\n",
    "learning_rate=0.1\n",
    "num_epoches=40\n",
    "\n",
    "# 线性回归模型\n",
    "class LinearRegression(torch.nn.Module):\n",
    "    def __init__(self):\n",
    "        super().__init__()\n",
    "        self.linear = torch.nn.Linear(1,1)# 1 in and 1 out\n",
    "        \n",
    "    def forward(self,x):\n",
    "        y_pred = self.linear(x)\n",
    "        return y_pred\n",
    "\n",
    "model = LinearRegression()\n",
    "\n",
    "# 定义loss function损失函数和optimizer优化器\n",
    "# PyTorch0.4以后，使用reduction参数控制损失函数的输出行为\n",
    "criterion = torch.nn.MSELoss(reduction='mean')\n",
    "# nn.Parameter - 张量的一种，当它作为一个属性分配给一个Module时，它会被自动注册为一个参数。\n",
    "optimizer = torch.optim.SGD(model.parameters(),lr=learning_rate)\n",
    "\n",
    "# 训练模型\n",
    "for epoch in range(num_epoches):\n",
    "    # forward \n",
    "    y_pred= model(x_data)\n",
    "    \n",
    "    #computing loss \n",
    "    loss = criterion(y_pred,y_data)\n",
    "    \n",
    "    print(epoch,'epoch\\'s loss:',loss.item())\n",
    "    \n",
    "    # backward: zero gradients + backward + step\n",
    "    optimizer.zero_grad()\n",
    "    loss.backward()  \n",
    "    optimizer.step() # 执行一步-梯度下降（1-step gradient descent）\n",
    "    \n",
    "# testing\n",
    "x_test=torch.Tensor([4.0])\n",
    "print(\"the result of y when x is 4:\",model(x_test))\n",
    "print('model.parameter:',list(model.parameters()))\n",
    "#print(type(list(model.parameters())))\n",
    "#print(list(model.parameters())[1])"
   ]
  }
 ],
 "metadata": {
  "kernelspec": {
   "display_name": "Python 3",
   "language": "python",
   "name": "python3"
  },
  "language_info": {
   "codemirror_mode": {
    "name": "ipython",
    "version": 3
   },
   "file_extension": ".py",
   "mimetype": "text/x-python",
   "name": "python",
   "nbconvert_exporter": "python",
   "pygments_lexer": "ipython3",
   "version": "3.6.8"
  }
 },
 "nbformat": 4,
 "nbformat_minor": 2
}
